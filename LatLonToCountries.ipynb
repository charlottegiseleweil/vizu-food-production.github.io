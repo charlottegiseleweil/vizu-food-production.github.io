{
 "cells": [
  {
   "cell_type": "code",
   "execution_count": 99,
   "metadata": {},
   "outputs": [],
   "source": [
    "import matplotlib.path as mplPath\n",
    "import json\n",
    "import pandas as pd\n",
    "from os import listdir\n",
    "from os.path import isfile, join"
   ]
  },
  {
   "cell_type": "code",
   "execution_count": 100,
   "metadata": {},
   "outputs": [],
   "source": [
    "directory = './countries'\n",
    "onlyfiles = [f for f in listdir(directory) if isfile(join(directory, f))]"
   ]
  },
  {
   "cell_type": "code",
   "execution_count": 159,
   "metadata": {},
   "outputs": [
    {
     "data": {
      "text/plain": [
       "1064557"
      ]
     },
     "execution_count": 159,
     "metadata": {},
     "output_type": "execute_result"
    }
   ],
   "source": [
    "data_path = 'data/'\n",
    "country_path = 'data/countries/'\n",
    "name = ''\n",
    "data_cc = pd.read_csv(data_path + name)\n",
    "filtered_cc = data_cc.dropna()\n",
    "len(filtered_cc)"
   ]
  },
  {
   "cell_type": "code",
   "execution_count": 160,
   "metadata": {},
   "outputs": [
    {
     "name": "stdout",
     "output_type": "stream",
     "text": [
      "(9.390001, 43.009985)  is in  France\n"
     ]
    }
   ],
   "source": [
    "# Find country of a point\n",
    "\"\"\"for file in onlyfiles:\n",
    "    with open(directory + '/' + file) as f:\n",
    "        data = json.load(f)\n",
    "        pos = (9.390001,43.009985)\n",
    "        polygons = data['features'][0]['geometry']['coordinates']\n",
    "        type_polygon = data['features'][0]['geometry']['type']\n",
    "        inside_polygon = False\n",
    "        if type_polygon == 'Polygon':\n",
    "            polygon = polygons[0]\n",
    "            bbPath = mplPath.Path(polygon)\n",
    "            inside_polygon = bbPath.contains_point(pos)\n",
    "        else:\n",
    "            for poly in polygons:\n",
    "                poly = poly[0]\n",
    "                bbPath = mplPath.Path(poly)\n",
    "                inside_polygon = inside_polygon or bbPath.contains_point(pos)\n",
    "        if inside_polygon:\n",
    "            print(pos, ' is in ',data['features'][0]['properties']['name'])\"\"\""
   ]
  },
  {
   "cell_type": "code",
   "execution_count": 161,
   "metadata": {},
   "outputs": [],
   "source": [
    "country_dict = {}\n",
    "for file in onlyfiles:\n",
    "    with open(directory + '/' + file) as f:\n",
    "        data = json.load(f)\n",
    "        country_name = data['features'][0]['properties']['name']\n",
    "        pos = (96.25,-75)\n",
    "        polygons = data['features'][0]['geometry']['coordinates']\n",
    "        type_polygon = data['features'][0]['geometry']['type']\n",
    "        inside_polygon = False\n",
    "        country_dict[country_name] = []\n",
    "        if type_polygon == 'Polygon':\n",
    "            polygon = polygons[0]\n",
    "            bbPath = mplPath.Path(polygon)\n",
    "            country_dict[country_name].append(bbPath)\n",
    "        else:\n",
    "            for poly in polygons:\n",
    "                poly = poly[0]\n",
    "                bbPath = mplPath.Path(poly)\n",
    "                country_dict[country_name].append(bbPath)"
   ]
  },
  {
   "cell_type": "code",
   "execution_count": 162,
   "metadata": {},
   "outputs": [],
   "source": [
    "def convert(lat, lon, country_dict):\n",
    "    for country_name, polygons in country_dict.items():\n",
    "        for polygon in polygons:\n",
    "            inside_polygon = polygon.contains_point((lon,lat))\n",
    "            if inside_polygon:\n",
    "                return country_name\n",
    "    return 'Unknown'"
   ]
  },
  {
   "cell_type": "code",
   "execution_count": 163,
   "metadata": {},
   "outputs": [
    {
     "name": "stdout",
     "output_type": "stream",
     "text": [
      "Russia                              146636\n",
      "China                               100174\n",
      "United States of America             89009\n",
      "Brazil                               75898\n",
      "India                                38357\n",
      "Canada                               28162\n",
      "Kazakhstan                           27965\n",
      "Australia                            27347\n",
      "Argentina                            21947\n",
      "Democratic Republic of the Congo     21514\n",
      "Mexico                               15843\n",
      "Indonesia                            14624\n",
      "Iran                                 14584\n",
      "Mongolia                             13903\n",
      "Turkey                               11276\n",
      "Angola                               10952\n",
      "South Africa                         10920\n",
      "Sudan                                10491\n",
      "Nigeria                              10477\n",
      "Ukraine                              10366\n",
      "Ethiopia                              9290\n",
      "United Republic of Tanzania           9178\n",
      "France                                8934\n",
      "Pakistan                              8694\n",
      "Zambia                                7595\n",
      "Bolivia                               7536\n",
      "Colombia                              7479\n",
      "Myanmar                               7432\n",
      "Mozambique                            7390\n",
      "Afghanistan                           7287\n",
      "                                     ...  \n",
      "Israel                                 252\n",
      "Equatorial Guinea                      243\n",
      "Suriname                               232\n",
      "Swaziland                              232\n",
      "Montenegro                             208\n",
      "Kosovo                                 179\n",
      "Belize                                 171\n",
      "Gambia                                 156\n",
      "New Caledonia                          140\n",
      "Fiji                                   137\n",
      "East Timor                             126\n",
      "Lebanon                                125\n",
      "French Guiana                          110\n",
      "Jamaica                                 90\n",
      "Iceland                                 76\n",
      "Puerto Rico                             72\n",
      "Cyprus                                  70\n",
      "West Bank                               68\n",
      "Djibouti                                67\n",
      "Brunei                                  65\n",
      "Kuwait                                  54\n",
      "Solomon Islands                         51\n",
      "El Salvador                             48\n",
      "Luxembourg                              43\n",
      "Qatar                                   41\n",
      "Trinidad and Tobago                     35\n",
      "Vanuatu                                 35\n",
      "Western Sahara                          19\n",
      "The Bahamas                             18\n",
      "Falkland Islands                         5\n",
      "Name: country, Length: 174, dtype: int64\n"
     ]
    },
    {
     "name": "stderr",
     "output_type": "stream",
     "text": [
      "/home/kyle/anaconda3/lib/python3.6/site-packages/ipykernel_launcher.py:1: SettingWithCopyWarning: \n",
      "A value is trying to be set on a copy of a slice from a DataFrame.\n",
      "Try using .loc[row_indexer,col_indexer] = value instead\n",
      "\n",
      "See the caveats in the documentation: http://pandas.pydata.org/pandas-docs/stable/indexing.html#indexing-view-versus-copy\n",
      "  \"\"\"Entry point for launching an IPython kernel.\n"
     ]
    }
   ],
   "source": [
    "filtered_cc['country'] = filtered_cc.apply(lambda row: convert(-row.lat, row.lon, country_dict), axis=1)\n",
    "print(filtered_cc['country'].value_counts())"
   ]
  },
  {
   "cell_type": "code",
   "execution_count": 164,
   "metadata": {},
   "outputs": [],
   "source": [
    "filtered_cc.to_csv('data/2050/SSP1_cc_countries.csv')"
   ]
  },
  {
   "cell_type": "code",
   "execution_count": 174,
   "metadata": {},
   "outputs": [
    {
     "name": "stderr",
     "output_type": "stream",
     "text": [
      "/home/kyle/anaconda3/lib/python3.6/site-packages/ipykernel_launcher.py:1: SettingWithCopyWarning: \n",
      "A value is trying to be set on a copy of a slice from a DataFrame.\n",
      "Try using .loc[row_indexer,col_indexer] = value instead\n",
      "\n",
      "See the caveats in the documentation: http://pandas.pydata.org/pandas-docs/stable/indexing.html#indexing-view-versus-copy\n",
      "  \"\"\"Entry point for launching an IPython kernel.\n"
     ]
    }
   ],
   "source": [
    "#filtered_cc['total_calories'] = filtered_cc.apply(lambda row: row.calories_per_ha * row.ha_per_cell_5m, axis=1)"
   ]
  },
  {
   "cell_type": "code",
   "execution_count": 179,
   "metadata": {},
   "outputs": [],
   "source": [
    "#calories_per_country = filtered_cc.groupby(['country']).sum()['total_calories']"
   ]
  },
  {
   "cell_type": "code",
   "execution_count": 184,
   "metadata": {},
   "outputs": [
    {
     "data": {
      "text/plain": [
       "country\n",
       "Afghanistan                    1.085033e+14\n",
       "Albania                        6.092592e+12\n",
       "Algeria                        4.068744e+13\n",
       "Angola                         8.169907e+13\n",
       "Argentina                      3.577879e+14\n",
       "Armenia                        4.911036e+12\n",
       "Australia                      9.990620e+14\n",
       "Austria                        2.002059e+13\n",
       "Azerbaijan                     1.711350e+13\n",
       "Bangladesh                     1.022485e+14\n",
       "Belarus                        6.919428e+13\n",
       "Belgium                        7.610450e+12\n",
       "Belize                         9.895356e+12\n",
       "Benin                          5.752070e+13\n",
       "Bhutan                         1.196401e+13\n",
       "Bolivia                        8.056015e+13\n",
       "Bosnia and Herzegovina         9.174072e+12\n",
       "Botswana                       2.103825e+13\n",
       "Brazil                         1.389931e+15\n",
       "Brunei                         1.320490e+13\n",
       "Bulgaria                       3.276427e+13\n",
       "Burkina Faso                   1.014225e+14\n",
       "Burundi                        4.461076e+12\n",
       "Cambodia                       2.437454e+14\n",
       "Cameroon                       6.988101e+13\n",
       "Canada                         6.229097e+14\n",
       "Central African Republic       4.388701e+13\n",
       "Chad                           1.645913e+14\n",
       "Chile                          4.599374e+13\n",
       "China                          4.547226e+15\n",
       "                                   ...     \n",
       "Swaziland                      4.161252e+12\n",
       "Sweden                         1.693860e+14\n",
       "Switzerland                    1.578383e+13\n",
       "Syria                          2.039344e+13\n",
       "Taiwan                         1.849104e+13\n",
       "Tajikistan                     3.462079e+13\n",
       "Thailand                       5.872748e+14\n",
       "The Bahamas                    1.168510e+12\n",
       "Togo                           2.794195e+13\n",
       "Trinidad and Tobago            1.155773e+12\n",
       "Tunisia                        1.180436e+13\n",
       "Turkey                         1.411125e+14\n",
       "Turkmenistan                   6.824210e+13\n",
       "Uganda                         3.561919e+13\n",
       "Ukraine                        1.881174e+14\n",
       "United Arab Emirates           1.339235e+13\n",
       "United Kingdom                 4.701745e+13\n",
       "United Republic of Tanzania    1.155720e+14\n",
       "United States of America       1.488676e+15\n",
       "Unknown                        3.758795e+14\n",
       "Uruguay                        5.778619e+13\n",
       "Uzbekistan                     5.255370e+13\n",
       "Vanuatu                        2.897369e+11\n",
       "Venezuela                      1.191391e+14\n",
       "Vietnam                        3.333793e+14\n",
       "West Bank                      7.162842e+11\n",
       "Western Sahara                 3.137827e+11\n",
       "Yemen                          6.927924e+13\n",
       "Zambia                         7.017143e+13\n",
       "Zimbabwe                       4.155426e+13\n",
       "Name: total_calories, Length: 174, dtype: float64"
      ]
     },
     "execution_count": 184,
     "metadata": {},
     "output_type": "execute_result"
    }
   ],
   "source": [
    "#calories_per_country"
   ]
  },
  {
   "cell_type": "code",
   "execution_count": null,
   "metadata": {},
   "outputs": [],
   "source": []
  }
 ],
 "metadata": {
  "kernelspec": {
   "display_name": "Python 3",
   "language": "python",
   "name": "python3"
  },
  "language_info": {
   "codemirror_mode": {
    "name": "ipython",
    "version": 3
   },
   "file_extension": ".py",
   "mimetype": "text/x-python",
   "name": "python",
   "nbconvert_exporter": "python",
   "pygments_lexer": "ipython3",
   "version": "3.6.3"
  }
 },
 "nbformat": 4,
 "nbformat_minor": 2
}
