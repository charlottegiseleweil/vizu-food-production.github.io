{
 "cells": [
  {
   "cell_type": "code",
   "execution_count": 20,
   "metadata": {},
   "outputs": [],
   "source": [
    "import pandas as pd\n",
    "import numpy as np\n",
    "import math\n",
    "\n",
    "import matplotlib.pyplot as plt\n",
    "%matplotlib inline\n",
    "import os"
   ]
  },
  {
   "cell_type": "code",
   "execution_count": 37,
   "metadata": {},
   "outputs": [],
   "source": [
    "countries = set()"
   ]
  },
  {
   "cell_type": "code",
   "execution_count": 38,
   "metadata": {},
   "outputs": [],
   "source": [
    "path = 'data/2050/SSP2'"
   ]
  },
  {
   "cell_type": "code",
   "execution_count": 39,
   "metadata": {},
   "outputs": [
    {
     "data": {
      "text/plain": [
       "['SSP2_Georgia.csv',\n",
       " 'SSP2_United Arab Emirates.csv',\n",
       " 'SSP2_Sri Lanka.csv',\n",
       " 'SSP2_Honduras.csv',\n",
       " 'SSP2_Albania.csv']"
      ]
     },
     "execution_count": 39,
     "metadata": {},
     "output_type": "execute_result"
    }
   ],
   "source": [
    "files = os.listdir(path)\n",
    "files[:5]"
   ]
  },
  {
   "cell_type": "code",
   "execution_count": 40,
   "metadata": {},
   "outputs": [
    {
     "data": {
      "text/plain": [
       "181"
      ]
     },
     "execution_count": 40,
     "metadata": {},
     "output_type": "execute_result"
    }
   ],
   "source": [
    "for file in files:\n",
    "    countries.add(file[5:-4])\n",
    "len(countries)"
   ]
  },
  {
   "cell_type": "code",
   "execution_count": 42,
   "metadata": {},
   "outputs": [
    {
     "data": {
      "text/plain": [
       "['Republic of the Congo',\n",
       " 'Germany',\n",
       " 'Armenia',\n",
       " 'Guinea Bissau',\n",
       " 'Nicaragua',\n",
       " 'Africa',\n",
       " 'Ireland',\n",
       " 'Asia',\n",
       " 'Hungary',\n",
       " 'Oman']"
      ]
     },
     "execution_count": 42,
     "metadata": {},
     "output_type": "execute_result"
    }
   ],
   "source": [
    "countries = list(countries)\n",
    "countries[:10]"
   ]
  },
  {
   "cell_type": "code",
   "execution_count": 43,
   "metadata": {},
   "outputs": [],
   "source": [
    "graph_path = 'data/graph/'\n",
    "\n",
    "country_ssp1 = pd.read_csv(graph_path + 'graph_country_data_ssp1.csv')\n",
    "country_ssp2 = pd.read_csv(graph_path + 'graph_country_data_ssp2.csv')\n",
    "country_ssp3 = pd.read_csv(graph_path + 'graph_country_data_ssp3.csv')\n",
    "country_ssp4 = pd.read_csv(graph_path + 'graph_country_data_ssp4.csv')\n",
    "country_ssp5 = pd.read_csv(graph_path + 'graph_country_data_ssp5.csv')\n",
    "\n",
    "continent_ssp1 = pd.read_csv(graph_path + 'graph_continent_data_ssp1.csv')\n",
    "continent_ssp2 = pd.read_csv(graph_path + 'graph_continent_data_ssp2.csv')\n",
    "continent_ssp3 = pd.read_csv(graph_path + 'graph_continent_data_ssp3.csv')\n",
    "continent_ssp4 = pd.read_csv(graph_path + 'graph_continent_data_ssp4.csv')\n",
    "continent_ssp5 = pd.read_csv(graph_path + 'graph_continent_data_ssp5.csv')"
   ]
  },
  {
   "cell_type": "code",
   "execution_count": 45,
   "metadata": {},
   "outputs": [],
   "source": [
    "columns = ['Country', 'Calories2000', 'Population2000', 'Caloryrequirements2000',\n",
    "       'Cropland2000', 'Sufficiency2000', 'Percentageoftotalcal2000',\n",
    "       'Yield2000', 'Calories2050', 'Population2050', 'Caloryrequirements2050',\n",
    "       'Cropland2050', 'Sufficiency2050', 'Percentageoftotalcal2050',\n",
    "       'Yield2050', 'diffCalories', 'diffPopulation', 'diffCaloryrequirements',\n",
    "       'diffYield']"
   ]
  },
  {
   "cell_type": "code",
   "execution_count": null,
   "metadata": {},
   "outputs": [],
   "source": [
    "country_ssp1.columns = columns\n",
    "country_ssp2.columns = columns\n",
    "country_ssp3.columns = columns\n",
    "country_ssp4.columns = columns\n",
    "country_ssp5.columns = columns\n",
    "\n",
    "continent_ssp1.columns = columns\n",
    "continent_ssp2.columns = columns\n",
    "continent_ssp3.columns = columns\n",
    "continent_ssp4.columns = columns\n",
    "continent_ssp5.columns = columns"
   ]
  }
 ],
 "metadata": {
  "kernelspec": {
   "display_name": "Python 3",
   "language": "python",
   "name": "python3"
  },
  "language_info": {
   "codemirror_mode": {
    "name": "ipython",
    "version": 3
   },
   "file_extension": ".py",
   "mimetype": "text/x-python",
   "name": "python",
   "nbconvert_exporter": "python",
   "pygments_lexer": "ipython3",
   "version": "3.6.3"
  }
 },
 "nbformat": 4,
 "nbformat_minor": 2
}
